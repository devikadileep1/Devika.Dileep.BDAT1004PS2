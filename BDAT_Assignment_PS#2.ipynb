{
 "cells": [
  {
   "cell_type": "markdown",
   "id": "37bb1eed",
   "metadata": {},
   "source": [
    "Question 1\n",
    "Consider the following Python module:\n",
    "a = 0\n",
    "def b():\n",
    " global a\n",
    " a = c(a)\n",
    "def c(a):\n",
    " return a + 2\n",
    "After importing the module into the interpreter, you execute:\n",
    " b()\n",
    " b()\n",
    " b()\n",
    " a\n",
    "?\n",
    "What value is displayed when the last expression (a) is evaluated? Explain your \n",
    "answer by indicating what happens in every executed statement"
   ]
  },
  {
   "cell_type": "markdown",
   "id": "61b03e56",
   "metadata": {},
   "source": [
    "the answer will be 6. first  b() calls c. c returns 2.\n",
    "second b function calls c and returns 4.\n",
    "third function call returns 6 \n",
    "then a is printed. hence the value 6"
   ]
  },
  {
   "cell_type": "code",
   "execution_count": null,
   "id": "19613ada",
   "metadata": {},
   "outputs": [],
   "source": [
    "Question 2\n",
    "Function fileLength(), given to you, takes the name of a file as input and returns \n",
    "the length of the file:\n",
    " fileLength('midterm.py')\n",
    "284\n",
    " fileLength('idterm.py')\n",
    "Traceback (most recent call last):\n",
    "File \"<pyshell#34>\", line 1, in <module>\n",
    " fileLength('idterm.py')\n",
    "File \"/Users/me/midterm.py\", line 3, in fileLength\n",
    " infile = open(filename)\n",
    "FileNotFoundError: [Errno 2] No such file or directory: \n",
    "'idterm.py'\n",
    "As shown above, if the file cannot be found by the interpreter or if it cannot be read \n",
    "as a text file, an exception will be raised. Modify function fileLength() so that a \n",
    "friendly message is printed instead:\n",
    " fileLength('midterm.py')\n",
    "358\n",
    " fileLength('idterm.py')\n",
    "File idterm.py not found."
   ]
  },
  {
   "cell_type": "code",
   "execution_count": 3,
   "id": "d045009a",
   "metadata": {},
   "outputs": [
    {
     "data": {
      "text/plain": [
       "'File 13 not found.'"
      ]
     },
     "execution_count": 3,
     "metadata": {},
     "output_type": "execute_result"
    }
   ],
   "source": [
    "def fileLength(filename):\n",
    "    try:\n",
    "        infile = open(filename, 'r')  # Attempt to open the file for reading\n",
    "        contents = infile.read()\n",
    "        infile.close()\n",
    "        length = len(contents)\n",
    "        return length\n",
    "    except FileNotFoundError:\n",
    "        return f\"File {filename} not found.\"\n",
    "    except Exception as e:\n",
    "        return f\"An error occurred: {str(e)}\"\n",
    "fileLength('13')"
   ]
  },
  {
   "cell_type": "markdown",
   "id": "7512a8d2",
   "metadata": {},
   "source": [
    "Question 4\\nWrite a class named Marsupial that can be used as shown below:\n",
    " m = Marsupial()\n",
    " m.put_in_pouch('doll')\n",
    " m.put_in_pouch('firetruck')\n",
    " m.put_in_pouch('kitten')\n",
    " m.pouch_contents()\n",
    "['doll', 'firetruck', 'kitten']\n",
    "Now write a class named Kangaroo as a subclass of Marsupial that inherits all the \n",
    "attributes of Marsupial and also:\n",
    "a. extends the Marsupial __init__ constructor to take, as input, the \n",
    "coordinates x and y of the Kangaroo object,\n",
    "b. supports method jump that takes number values dx and dy as input and \n",
    "moves the kangaroo by dx units along the x-axis and by dy units along the y\u0002axis, and\n",
    "c. overloads the __str__ operator so it behaves as shown belo"
   ]
  },
  {
   "cell_type": "code",
   "execution_count": 4,
   "id": "54202f5a",
   "metadata": {},
   "outputs": [
    {
     "name": "stdout",
     "output_type": "stream",
     "text": [
      "I am a Kangaroo located at coordinates (0,0)\n",
      "['doll', 'firetruck', 'kitten']\n",
      "I am a Kangaroo located at coordinates (3,0)\n"
     ]
    }
   ],
   "source": [
    "class Marsupial:\n",
    "    def __init__(self):\n",
    "        self.pouch = []\n",
    " \n",
    "    def put_in_pouch(self, item):\n",
    "        self.pouch.append(item)\n",
    " \n",
    "    def pouch_contents(self):\n",
    "        return self.pouch\n",
    " \n",
    "class Kangaroo(Marsupial):\n",
    "    def __init__(self, x=0, y=0):\n",
    "        super().__init__()\n",
    "        self.x = x\n",
    "        self.y = y\n",
    " \n",
    "    def jump(self, dx, dy):\n",
    "        self.x += dx\n",
    "        self.y += dy\n",
    " \n",
    "    def __str__(self):\n",
    "        return f\"I am a Kangaroo located at coordinates ({self.x},{self.y})\"\n",
    " \n",
    "# Create an instance of the Kangaroo class\n",
    "k = Kangaroo(0, 0)\n",
    " \n",
    "# Print Kangaroo's initial location\n",
    "print(k) \n",
    " \n",
    "# Put items in the pouch\n",
    "k.put_in_pouch('doll')\n",
    "k.put_in_pouch('firetruck')\n",
    "k.put_in_pouch('kitten')\n",
    " \n",
    "contents = k.pouch_contents()\n",
    "print(contents)  \n",
    " \n",
    "# Perform jumps\n",
    "k.jump(1, 0)\n",
    "k.jump(1, 0)\n",
    "k.jump(1, 0)\n",
    "\n",
    "print(k)"
   ]
  },
  {
   "cell_type": "markdown",
   "id": "fe6b263b",
   "metadata": {},
   "source": [
    "Question 4\n",
    "Write function collatz() that takes a positive integer x as input and prints the \n",
    "Collatz sequence starting at x. A Collatz sequence is obtained by repeatedly applying \n",
    "this rule to the previous number x in the sequence:\n",
    "x = {\n",
    "𝑥/2 𝑖𝑓 𝑥 𝑖𝑠 𝑒𝑣𝑒𝑛\n",
    "3𝑥 + 1 𝑖𝑓 𝑥 𝑖𝑠 𝑜𝑑𝑑\n",
    "Your function should stop when the sequence gets to number 1. Your \n",
    "implementation must be recursive, without any loops"
   ]
  },
  {
   "cell_type": "code",
   "execution_count": 8,
   "id": "a9b5c90b",
   "metadata": {},
   "outputs": [
    {
     "name": "stdout",
     "output_type": "stream",
     "text": [
      "3\n",
      "10\n",
      "5\n",
      "16\n",
      "8\n",
      "4\n",
      "2\n",
      "1\n"
     ]
    }
   ],
   "source": [
    "def collatz(x):\n",
    "    print(x)\n",
    "    if x == 1:\n",
    "        return\n",
    "    elif x % 2 == 0:\n",
    "        collatz(x // 2)\n",
    "    else:\n",
    "        collatz(3 * x + 1)\n",
    "collatz(3)\n",
    " "
   ]
  },
  {
   "cell_type": "markdown",
   "id": "50ddbfc5",
   "metadata": {},
   "source": [
    "Question 5\n",
    "Write a recursive method binary() that takes a non-negative \n",
    "integer n and prints the binary representation of integer n.\n"
   ]
  },
  {
   "cell_type": "code",
   "execution_count": 9,
   "id": "fa79a796",
   "metadata": {},
   "outputs": [
    {
     "name": "stdout",
     "output_type": "stream",
     "text": [
      "1101"
     ]
    }
   ],
   "source": [
    "def binary(n):\n",
    "    if n > 1:\n",
    "        binary(n // 2)\n",
    "    print(n % 2, end='')\n",
    "binary(13)"
   ]
  },
  {
   "cell_type": "markdown",
   "id": "e5998378",
   "metadata": {},
   "source": [
    "Question 8\n",
    "Write SQL queries on the below database table that return: \n",
    "a) All the temperature data.\n",
    "b) All the cities, but without repetition.\n",
    "c) All the records for India.\n",
    "d) All the Fall records.\n",
    " Computer Studies\n",
    "e) The city, country, and season for which the average rainfall is between 200 \n",
    "and 400 millimeters.\n",
    "f) The city and country for which the average Fall temperature is above 20 \n",
    "degrees, in increasing temperature order.\n",
    "g) The total annual rainfall for Cairo.\n",
    "h) The total rainfall for each season."
   ]
  },
  {
   "cell_type": "markdown",
   "id": "788979fd",
   "metadata": {},
   "source": [
    "SELECT temperature FROM weather_data;\n",
    "SELECT DISTINCT city FROM weather_data;\n",
    "SELECT * FROM weather_data WHERE country = 'India';\n",
    " \n",
    "SELECT * FROM weather_data WHERE season = 'Fall';\n",
    " \n",
    "SELECT city, country, season\n",
    "FROM weather_data\n",
    "GROUP BY city, country, season\n",
    "HAVING AVG(rainfall) BETWEEN 200 AND 400;\n",
    " \n",
    "SELECT city, country\n",
    "FROM weather_data\n",
    "WHERE season = 'Fall'\n",
    "GROUP BY city, country\n",
    "HAVING AVG(temperature) > 20\n",
    "ORDER BY AVG(temperature) ASC;\n",
    " \n",
    "SELECT SUM(rainfall) AS total_rainfall\n",
    "FROM weather_data\n",
    "WHERE city = 'Cairo';\n",
    " \n",
    "SELECT season, SUM(rainfall) AS total_rainfall\n",
    "FROM weather_data\n",
    "GROUP BY season"
   ]
  },
  {
   "cell_type": "markdown",
   "id": "09385fa4",
   "metadata": {},
   "source": [
    " Suppose list words is defined as follows:\n",
    " words = ['The', 'quick', 'brown', 'fox', 'jumps', 'over', \n",
    "'the', 'lazy', 'dog']\n",
    "Write list comprehension expressions that use list words and generate the following \n",
    "lists:\n",
    "a) ['THE', 'QUICK', 'BROWN', 'FOX', 'JUMPS', 'OVER', 'THE', \n",
    "'LAZY', 'DOG']\n",
    "b) ['the', 'quick', 'brown', 'fox', 'jumps', 'over', 'the', \n",
    "'lazy', 'dog']\n",
    "c) [3, 5, 5, 3, 5, 4, 3, 4, 3] (the list of lengths of words in list \n",
    "words).\n",
    "d) [['THE', 'the', 3], ['QUICK', 'quick', 5], ['BROWN', \n",
    "'brown', 5], ['FOX', 'fox', 3], ['JUMPS', 'jumps', 5], \n",
    "['OVER', 'over', 4], ['THE', 'the', 3], ['LAZY', 'lazy', \n",
    "4], ['DOG', 'dog', 3]] (the list containing a list for every word of list \n",
    "words, where each list contains the word in uppercase and lowercase and the \n",
    "length of the word.)\n",
    "e) ['The', 'quick', 'brown', 'fox', 'jumps', 'over', 'the', \n",
    "'lazy', 'dog'] (the list of words in list words containing 4 or more \n",
    "characters."
   ]
  },
  {
   "cell_type": "code",
   "execution_count": 10,
   "id": "ec513696",
   "metadata": {},
   "outputs": [
    {
     "name": "stdout",
     "output_type": "stream",
     "text": [
      "['THE', 'QUICK', 'BROWN', 'FOX', 'JUMPS', 'OVER', 'THE', 'LAZY', 'DOG']\n",
      "['the', 'quick', 'brown', 'fox', 'jumps', 'over', 'the', 'lazy', 'dog']\n",
      "[['THE', 'the', 3], ['QUICK', 'quick', 5], ['BROWN', 'brown', 5], ['FOX', 'fox', 3], ['JUMPS', 'jumps', 5], ['OVER', 'over', 4], ['THE', 'the', 3], ['LAZY', 'lazy', 4], ['DOG', 'dog', 3]]\n",
      "['quick', 'brown', 'jumps', 'over', 'lazy']\n"
     ]
    }
   ],
   "source": [
    "word_List = ['The', 'quick', 'brown', 'fox', 'jumps', 'over', 'the', 'lazy', 'dog']\n",
    "uppercase_words = [word.upper() for word in word_List]\n",
    " \n",
    "lowercase_info = [word.lower() for word in uppercase_words]\n",
    " \n",
    "mixed_list = [[word.upper(), word.lower(), len(word)] for word in word_List]\n",
    "filtered_words = [word for word in word_List if len(word) >= 4]\n",
    "print(uppercase_words)\n",
    "print(lowercase_info)\n",
    "print(mixed_list)\n",
    "print(filtered_words)"
   ]
  },
  {
   "cell_type": "code",
   "execution_count": null,
   "id": "e40461b0",
   "metadata": {},
   "outputs": [],
   "source": []
  }
 ],
 "metadata": {
  "kernelspec": {
   "display_name": "Python 3 (ipykernel)",
   "language": "python",
   "name": "python3"
  },
  "language_info": {
   "codemirror_mode": {
    "name": "ipython",
    "version": 3
   },
   "file_extension": ".py",
   "mimetype": "text/x-python",
   "name": "python",
   "nbconvert_exporter": "python",
   "pygments_lexer": "ipython3",
   "version": "3.11.5"
  }
 },
 "nbformat": 4,
 "nbformat_minor": 5
}
